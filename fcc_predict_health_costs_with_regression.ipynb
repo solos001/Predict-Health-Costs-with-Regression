{
  "nbformat": 4,
  "nbformat_minor": 0,
  "metadata": {
    "colab": {
      "name": " fcc_predict_health_costs_with_regression.ipynb",
      "provenance": [],
      "collapsed_sections": [],
      "include_colab_link": true
    },
    "kernelspec": {
      "display_name": "Python 3",
      "name": "python3"
    }
  },
  "cells": [
    {
      "cell_type": "markdown",
      "metadata": {
        "id": "view-in-github",
        "colab_type": "text"
      },
      "source": [
        "<a href=\"https://colab.research.google.com/github/solos001/Predict-Health-Costs-with-Regression/blob/main/fcc_predict_health_costs_with_regression.ipynb\" target=\"_parent\"><img src=\"https://colab.research.google.com/assets/colab-badge.svg\" alt=\"Open In Colab\"/></a>"
      ]
    },
    {
      "cell_type": "markdown",
      "metadata": {
        "id": "M9TX15KOkPBV"
      },
      "source": [
        "*Note: You are currently reading this using Google Colaboratory which is a cloud-hosted version of Jupyter Notebook. This is a document containing both text cells for documentation and runnable code cells. If you are unfamiliar with Jupyter Notebook, watch this 3-minute introduction before starting this challenge: https://www.youtube.com/watch?v=inN8seMm7UI*\n",
        "\n",
        "---\n",
        "\n",
        "In this challenge, you will predict healthcare costs using a regression algorithm.\n",
        "\n",
        "You are given a dataset that contains information about different people including their healthcare costs. Use the data to predict healthcare costs based on new data.\n",
        "\n",
        "The first two cells of this notebook import libraries and the data.\n",
        "\n",
        "Make sure to convert categorical data to numbers. Use 80% of the data as the `train_dataset` and 20% of the data as the `test_dataset`.\n",
        "\n",
        "`pop` off the \"expenses\" column from these datasets to create new datasets called `train_labels` and `test_labels`. Use these labels when training your model.\n",
        "\n",
        "Create a model and train it with the `train_dataset`. Run the final cell in this notebook to check your model. The final cell will use the unseen `test_dataset` to check how well the model generalizes.\n",
        "\n",
        "To pass the challenge, `model.evaluate` must return a Mean Absolute Error of under 3500. This means it predicts health care costs correctly within $3500.\n",
        "\n",
        "The final cell will also predict expenses using the `test_dataset` and graph the results."
      ]
    },
    {
      "cell_type": "code",
      "metadata": {
        "id": "1rRo8oNqZ-Rj"
      },
      "source": [
        "# Import libraries. You may or may not use all of these.\n",
        "!pip install -q git+https://github.com/tensorflow/docs\n",
        "import matplotlib.pyplot as plt\n",
        "import numpy as np\n",
        "import pandas as pd\n",
        "\n",
        "try:\n",
        "  # %tensorflow_version only exists in Colab.\n",
        "  %tensorflow_version 2.x\n",
        "except Exception:\n",
        "  pass\n",
        "import tensorflow as tf\n",
        "\n",
        "from tensorflow import keras\n",
        "from tensorflow.keras import layers\n",
        "\n",
        "import tensorflow_docs as tfdocs\n",
        "import tensorflow_docs.plots\n",
        "import tensorflow_docs.modeling"
      ],
      "execution_count": null,
      "outputs": []
    },
    {
      "cell_type": "code",
      "metadata": {
        "id": "CiX2FI4gZtTt"
      },
      "source": [
        "# Import data\n",
        "!wget https://cdn.freecodecamp.org/project-data/health-costs/insurance.csv\n",
        "dataset = pd.read_csv('insurance.csv')\n",
        "dataset.tail()"
      ],
      "execution_count": null,
      "outputs": []
    },
    {
      "cell_type": "code",
      "source": [
        "dataset.describe()"
      ],
      "metadata": {
        "id": "DwlPcMLdTh14"
      },
      "execution_count": null,
      "outputs": []
    },
    {
      "cell_type": "code",
      "source": [
        "dataset.info()"
      ],
      "metadata": {
        "id": "NI397dvgT24y"
      },
      "execution_count": null,
      "outputs": []
    },
    {
      "cell_type": "code",
      "metadata": {
        "id": "LcopvQh3X-kX"
      },
      "source": [
        "dataset['region'].unique()"
      ],
      "execution_count": null,
      "outputs": []
    },
    {
      "cell_type": "code",
      "source": [
        "dataset.sex.unique()"
      ],
      "metadata": {
        "id": "ZdEn5c3hT7ue"
      },
      "execution_count": null,
      "outputs": []
    },
    {
      "cell_type": "code",
      "source": [
        "from sklearn.pipeline import Pipeline\n",
        "from sklearn.preprocessing import StandardScaler\n",
        "from sklearn.preprocessing import OneHotEncoder\n",
        "from sklearn.compose import ColumnTransformer\n",
        "from sklearn.model_selection import train_test_split"
      ],
      "metadata": {
        "id": "eMiij5JqhySo"
      },
      "execution_count": null,
      "outputs": []
    },
    {
      "cell_type": "code",
      "source": [
        "def data_proc(data):\n",
        "  X=data.drop('expenses',axis=1)\n",
        "  y=data.expenses\n",
        "\n",
        "  num_attribs=X.select_dtypes(exclude=\"object\").columns\n",
        "  cat_attribs=X.select_dtypes(include=\"object\").columns\n",
        "\n",
        "  num_pipeline=Pipeline([('std_scaler', StandardScaler())])\n",
        "  full_pipeline=ColumnTransformer([('num',num_pipeline,num_attribs),('cat',OneHotEncoder(),cat_attribs)])\n",
        "  X_prepared=full_pipeline.fit_transform(X)\n",
        "  \n",
        "\n",
        "  \n",
        "  X_train,X_test,y_train,y_test=train_test_split(X_prepared,y,train_size=0.8,test_size=0.2,random_state=0)\n",
        "  y_test=y_test.to_numpy()\n",
        "  y_train=y_train.to_numpy()\n",
        "  return X_train,X_test,y_train,y_test\n"
      ],
      "metadata": {
        "id": "7NxeoAVrhVTG"
      },
      "execution_count": null,
      "outputs": []
    },
    {
      "cell_type": "code",
      "source": [
        "X_train,X_test,y_train,y_test=data_proc(dataset.copy())"
      ],
      "metadata": {
        "id": "txPE-CTyKbS2"
      },
      "execution_count": null,
      "outputs": []
    },
    {
      "cell_type": "code",
      "source": [
        "def build_nn_model(n_hidden=4, n_neurons=100, learning_rate=0.001, input_shape=X_train.shape[1:],bn=False,dropout=False):\n",
        "  model=keras.models.Sequential()\n",
        "  model.add(keras.layers.Flatten(input_shape=input_shape))\n",
        "  if dropout:\n",
        "      model.add(keras.layers.Dropout(rate=0.2))\n",
        "  if bn:\n",
        "      model.add(keras.layers.BatchNormalization())\n",
        "  for hidden_layer in range(n_hidden):\n",
        "    model.add(keras.layers.Dense(n_neurons,kernel_initializer=\"he_normal\",activation=\"selu\"))\n",
        "    if bn:\n",
        "      model.add(keras.layers.BatchNormalization())\n",
        "    if dropout:\n",
        "      model.add(keras.layers.Dropout(rate=0.2))\n",
        "  model.add(keras.layers.Dense(1))\n",
        "  adam_optimizer=keras.optimizers.Adam(learning_rate=learning_rate, beta_1=0.9, beta_2=0.999)\n",
        "  model.compile(loss=tf.keras.losses.MeanAbsoluteError(),\n",
        "                optimizer=adam_optimizer,\n",
        "                metrics=[tf.keras.metrics.MeanAbsoluteError()])  \n",
        "  return model"
      ],
      "metadata": {
        "id": "0PvyejZdYfeo"
      },
      "execution_count": null,
      "outputs": []
    },
    {
      "cell_type": "code",
      "source": [
        "from sklearn.model_selection import RandomizedSearchCV\n",
        "from sklearn.model_selection import GridSearchCV"
      ],
      "metadata": {
        "id": "ADqgZEU2XP5u"
      },
      "execution_count": null,
      "outputs": []
    },
    {
      "cell_type": "code",
      "source": [
        "param_distribs = {\n",
        "  \"n_hidden\": [1,2,3,4],\n",
        "  \"n_neurons\": np.arange(1,100),\n",
        "}\n",
        "keras_reg = keras.wrappers.scikit_learn.KerasRegressor(build_nn_model)\n",
        "search_cv = RandomizedSearchCV(keras_reg, param_distribs,n_iter=5,cv=3,scoring='neg_mean_absolute_error')\n",
        "search_cv.fit(X_train, y_train, epochs=400,validation_split=0.2,callbacks=[keras.callbacks.EarlyStopping(patience=10,restore_best_weights=True)])"
      ],
      "metadata": {
        "id": "GDpZp5kdXFlA"
      },
      "execution_count": null,
      "outputs": []
    },
    {
      "cell_type": "code",
      "source": [
        "search_cv.best_params_"
      ],
      "metadata": {
        "id": "pRhfBanQfnWh"
      },
      "execution_count": null,
      "outputs": []
    },
    {
      "cell_type": "code",
      "source": [
        "model_1 = search_cv.best_estimator_.model\n",
        "model_1.evaluate(X_test,y_test)"
      ],
      "metadata": {
        "id": "bGSBhH4oYUTz"
      },
      "execution_count": null,
      "outputs": []
    },
    {
      "cell_type": "code",
      "source": [
        "model_1_error=model_1.evaluate(X_test,y_test)[0]"
      ],
      "metadata": {
        "id": "MbLF4yYHEJPe"
      },
      "execution_count": null,
      "outputs": []
    },
    {
      "cell_type": "code",
      "source": [
        "from sklearn.linear_model import Ridge\n",
        "from sklearn.model_selection import GridSearchCV"
      ],
      "metadata": {
        "id": "zT2K0aZqhJYQ"
      },
      "execution_count": null,
      "outputs": []
    },
    {
      "cell_type": "code",
      "source": [
        "def build_linear(X,y):\n",
        "  ridge=Ridge()\n",
        "  params={'alpha':[1,5,10,30]}\n",
        "  grid=GridSearchCV(estimator=ridge,param_grid=params,cv=3,scoring='neg_mean_absolute_error')\n",
        "  grid.fit(X,y)\n",
        "  return grid.best_estimator_"
      ],
      "metadata": {
        "id": "Z11B7o7Zf7FF"
      },
      "execution_count": null,
      "outputs": []
    },
    {
      "cell_type": "code",
      "source": [
        "model_2=build_linear(X_train,y_train)"
      ],
      "metadata": {
        "id": "DbE8-uPMgRc5"
      },
      "execution_count": null,
      "outputs": []
    },
    {
      "cell_type": "code",
      "source": [
        "from sklearn.metrics import mean_absolute_error\n",
        "model_2_error=mean_absolute_error(y_test,model_2.predict(X_test))"
      ],
      "metadata": {
        "id": "CRxan9ZLgXmd"
      },
      "execution_count": null,
      "outputs": []
    },
    {
      "cell_type": "code",
      "source": [
        "import xgboost"
      ],
      "metadata": {
        "id": "9b1rAChriskY"
      },
      "execution_count": null,
      "outputs": []
    },
    {
      "cell_type": "code",
      "source": [
        "def build_xgboost(X,y):\n",
        "  X_train_,X_val,y_train_,y_val=train_test_split(X,y,train_size=0.8,test_size=0.2,random_state=0)\n",
        "  xgb_reg = xgboost.XGBRegressor(random_state=0,learning_rate=0.1)\n",
        "  # params={'learning_rate':[0.1,0.05,0.001],'reg_alpha':[1]}\n",
        "  # grid=GridSearchCV(estimator=xgb_reg,param_grid=params,cv=3)\n",
        "  # grid.fit(X_train_,y_train_,eval_set=[(X_val, y_val)], early_stopping_rounds=10,eval_metric='mse')\n",
        "  xgb_reg.fit(X,y,eval_set=[(X_val, y_val)], early_stopping_rounds=10,eval_metric='mae')\n",
        "  return xgb_reg"
      ],
      "metadata": {
        "id": "I7bGjIKSjQDn"
      },
      "execution_count": null,
      "outputs": []
    },
    {
      "cell_type": "code",
      "source": [
        "model_3=build_xgboost(X_train,y_train)"
      ],
      "metadata": {
        "id": "07Rvs63dWHKa"
      },
      "execution_count": null,
      "outputs": []
    },
    {
      "cell_type": "code",
      "source": [
        "model_3_error=mean_absolute_error(y_test,model_3.predict(X_test))"
      ],
      "metadata": {
        "id": "XbAD9rsfhy5b"
      },
      "execution_count": null,
      "outputs": []
    },
    {
      "cell_type": "code",
      "source": [
        "error={'Neural_Networks':round(model_1_error,2),\n",
        "       'RidgeRegression':round(model_2_error,2),\n",
        "       'XgboostRegressor':round(model_3_error,2)\n",
        "       }"
      ],
      "metadata": {
        "id": "WscY6G_cECkx"
      },
      "execution_count": null,
      "outputs": []
    },
    {
      "cell_type": "code",
      "source": [
        "error_data=pd.Series(error)"
      ],
      "metadata": {
        "id": "ZsPVNsgYFhOy"
      },
      "execution_count": null,
      "outputs": []
    },
    {
      "cell_type": "code",
      "source": [
        "error_data.keys()"
      ],
      "metadata": {
        "id": "YW1tKzLcGAIZ"
      },
      "execution_count": null,
      "outputs": []
    },
    {
      "cell_type": "code",
      "source": [
        "error_data.values"
      ],
      "metadata": {
        "id": "GESjaejqHc9z"
      },
      "execution_count": null,
      "outputs": []
    },
    {
      "cell_type": "code",
      "source": [
        "import matplotlib.pyplot as plt\n",
        "fig, ax = plt.subplots(figsize=(10,8), constrained_layout=True)\n",
        "ax.bar(error_data.keys(),error_data.values)\n",
        "ax.set_xlabel('Models')\n",
        "ax.set_ylabel('Mean Absolute Error')\n",
        "ax.set_title('Models benchmark')"
      ],
      "metadata": {
        "id": "6tfVFGl1FIOq"
      },
      "execution_count": null,
      "outputs": []
    },
    {
      "cell_type": "code",
      "source": [
        "model=model_1"
      ],
      "metadata": {
        "id": "OBkrdfXDRD8R"
      },
      "execution_count": null,
      "outputs": []
    },
    {
      "cell_type": "code",
      "metadata": {
        "id": "Xe7RXH3N3CWU"
      },
      "source": [
        "# RUN THIS CELL TO TEST YOUR MODEL. DO NOT MODIFY CONTENTS.\n",
        "# Test model by checking how well the model generalizes using the test set.\n",
        "loss, mae= model.evaluate(X_test, y_test, verbose=2)\n",
        "\n",
        "print(\"Testing set Mean Abs Error: {:5.2f} expenses\".format(mae))\n",
        "\n",
        "if mae < 3500:\n",
        "  print(\"You passed the challenge. Great job!\")\n",
        "else:\n",
        "  print(\"The Mean Abs Error must be less than 3500. Keep trying.\")\n",
        "\n",
        "# Plot predictions.\n",
        "test_predictions = model.predict(X_test).flatten()\n",
        "\n",
        "a = plt.axes(aspect='equal')\n",
        "plt.scatter(y_test, test_predictions)\n",
        "plt.xlabel('True values (expenses)')\n",
        "plt.ylabel('Predictions (expenses)')\n",
        "lims = [0, 50000]\n",
        "plt.xlim(lims)\n",
        "plt.ylim(lims)\n",
        "_ = plt.plot(lims,lims)\n"
      ],
      "execution_count": null,
      "outputs": []
    }
  ]
}